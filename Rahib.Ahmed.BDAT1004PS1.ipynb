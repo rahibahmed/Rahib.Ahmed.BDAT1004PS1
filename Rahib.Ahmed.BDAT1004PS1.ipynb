{
 "cells": [
  {
   "cell_type": "markdown",
   "id": "cfd70e31",
   "metadata": {},
   "source": [
    "# Question 1 \n",
    "\n",
    "#### What data type is each of the following?\n",
    "\n",
    "- 5 -> int\n",
    "- 5.0 -> float\n",
    "- 5 > 1 -> bool\n",
    "- '5' -> char\n",
    "- 5 * 2 -> int\n",
    "- '5' * 2 -> int\n",
    "- '5' + '2' -> int\n",
    "- 5 / 2 -> int\n",
    "- 5 % 2 -> int \n",
    "- {5, 2, 1} -> array\n",
    "- 5 == 3 -> bool\n",
    "- Pi -> float"
   ]
  },
  {
   "cell_type": "markdown",
   "id": "22b7312b",
   "metadata": {},
   "source": [
    "# Question 2"
   ]
  },
  {
   "cell_type": "markdown",
   "id": "1f75c30d",
   "metadata": {},
   "source": [
    "```\n",
    "using System;\n",
    "\n",
    "namespace Rahib.AhmedBDAT1004PS1.Models\n",
    "{\n",
    "    internal class Question2\n",
    "    {\n",
    "       public void getstring(string stringName, string checkName, string stringName1, string stringName2, string[] composers)\n",
    "        {\n",
    "            //assigning to string variable givenString\n",
    "            string givenString = stringName;\n",
    "            // iteration to check each char with the next char and removing if it occurs again in string\n",
    "            for(int i = 0; i < givenString.Length; i++)\n",
    "            {\n",
    "                for(int j = 1; j<givenString.Length; j++)\n",
    "                {\n",
    "                    \n",
    "                        if (givenString[i] == givenString[j])\n",
    "                        {\n",
    "                        // for same index continue the loop. We dont want to remove the string we are checking\n",
    "                        if(i == j)\n",
    "                        {\n",
    "                            continue;\n",
    "                        }\n",
    "                        givenString = givenString.Remove(j, 1);\n",
    "\n",
    "                        }\n",
    "                }\n",
    "                \n",
    "            }\n",
    "            bool check = stringName.Contains(checkName);\n",
    "            string a = stringName;\n",
    "            string b = stringName1;\n",
    "            string c = stringName2;\n",
    "            \n",
    "            int big = (a.Length > b.Length && a.Length > c.Length) ? a.Length : (b.Length > a.Length && b.Length > c.Length ? b.Length : c.Length);\n",
    "            \n",
    "            Array.Sort(composers);\n",
    "          \n",
    "            Console.WriteLine($\"a. Number of letters in 'Supercalifragilisticexpialidocious' : {givenString.Length} = {givenString}\\n\");\n",
    "            Console.WriteLine($\"b.Checking if {stringName} contains {checkName} = {check}\\n\");\n",
    "            Console.WriteLine($\"c. Longest word is : {big} => {(big <= a.Length ? a : \"\")}, {(big <= b.Length ? b : \"\")}{(big <= c.Length ? c : \"\")} \\n\");\n",
    "            Console.WriteLine($\"d. First word in dictionary is {composers[0]} and last word in dictionary is {composers[composers.Length-1]}\\n\");\n",
    "        }        \n",
    "    }\n",
    "}\n",
    "\n",
    "\n",
    "```"
   ]
  },
  {
   "cell_type": "markdown",
   "id": "c9876ea8",
   "metadata": {},
   "source": [
    "# Output"
   ]
  },
  {
   "cell_type": "markdown",
   "id": "49f989d8",
   "metadata": {},
   "source": [
    "<img src=\"https://github.com/rahibahmed/Rahib.Ahmed.BDAT1004PS1/blob/main/Answer2abcd.PNG?raw=true\" width=\"800\" height=\"400\">"
   ]
  },
  {
   "cell_type": "markdown",
   "id": "fc1adce7",
   "metadata": {},
   "source": [
    "# Question 3 "
   ]
  },
  {
   "cell_type": "markdown",
   "id": "606718ce",
   "metadata": {},
   "source": [
    "```\n",
    "namespace Rahib.AhmedBDAT1004PS1.Models\n",
    "{\n",
    "    internal class Question3\n",
    "    {\n",
    "        public void triangleArea(int a, int b, int c)\n",
    "        {\n",
    "            int s = (a + b + c) / 2;\n",
    "\n",
    "            double area = s * (s - a) * (s - b) * (s - c);\n",
    "\n",
    "            area = (double)Math.Pow(area, 0.5);\n",
    "            Console.WriteLine($\"Area of triangle is : {area} with sides {a}, {b}, {c}\\n\");\n",
    "        }\n",
    "    }\n",
    "}\n",
    "```"
   ]
  },
  {
   "cell_type": "markdown",
   "id": "a7a02cb9",
   "metadata": {},
   "source": [
    "# Output:"
   ]
  },
  {
   "cell_type": "markdown",
   "id": "b8c10b1e",
   "metadata": {},
   "source": [
    "<img src=\"https://github.com/rahibahmed/Rahib.Ahmed.BDAT1004PS1/blob/main/Answer3.PNG?raw=true\" width=\"800\" height=\"400\">"
   ]
  },
  {
   "cell_type": "markdown",
   "id": "437ce7cd",
   "metadata": {},
   "source": [
    "# Question 4"
   ]
  },
  {
   "cell_type": "markdown",
   "id": "410f4b05",
   "metadata": {},
   "source": [
    "```\n",
    "using System;\n",
    "\n",
    "namespace Rahib.AhmedBDAT1004PS1.Models\n",
    "{\n",
    "    internal class Question4\n",
    "    {\n",
    "        public void testEvenOdd(int[] _number)\n",
    "        {\n",
    "            List<int> even = new List<int>();\n",
    "            List<int> odd = new List<int>();\n",
    "           \n",
    "            for (int i =0; i < _number.Length; i++)\n",
    "            {\n",
    "                if(_number[i] % 2 == 0)\n",
    "                {\n",
    "                    even.Add(_number[i]);\n",
    "                }\n",
    "                else\n",
    "                {\n",
    "                    odd.Add(_number[i]);\n",
    "                   \n",
    "                }\n",
    "            }   \n",
    "            Console.WriteLine(\"The even elemts are: \");\n",
    "            foreach (var item in even)\n",
    "            {\n",
    "                Console.Write($\"{item} \");\n",
    "            }\n",
    "            Console.WriteLine();\n",
    "            Console.WriteLine(\"The odd elemts are: \");\n",
    "            foreach (var item in odd)\n",
    "            {\n",
    "                Console.Write($\"{item} \");\n",
    "            }\n",
    "            Console.WriteLine();\n",
    "        }\n",
    "        \n",
    "\n",
    "    }\n",
    "}\n",
    "```"
   ]
  },
  {
   "cell_type": "markdown",
   "id": "515f4b7d",
   "metadata": {},
   "source": [
    "### Calling\n",
    "\n",
    "```\n",
    "int[] arr = new int[5];\n",
    "\n",
    "Console.WriteLine(\"Input 5 elements in array: \\n\");\n",
    "\n",
    "for (int i = 0; i < arr.Length; i++)\n",
    "{\n",
    "    Console.Write($\"Enter element - {i} = \");\n",
    "    arr[i] = Convert.ToInt32(Console.ReadLine());\n",
    "}\n",
    "\n",
    "Question4 _question4 = new Question4();\n",
    "_question4.testEvenOdd(arr);\n",
    "\n",
    "```"
   ]
  },
  {
   "cell_type": "markdown",
   "id": "394e0268",
   "metadata": {},
   "source": [
    "# Output:"
   ]
  },
  {
   "cell_type": "markdown",
   "id": "2de54e54",
   "metadata": {},
   "source": [
    "<img src=\"https://github.com/rahibahmed/Rahib.Ahmed.BDAT1004PS1/blob/main/Answer4.PNG?raw=true\" width=\"800\" height=\"400\">"
   ]
  },
  {
   "cell_type": "markdown",
   "id": "072250e6",
   "metadata": {},
   "source": [
    "# Question 5"
   ]
  },
  {
   "cell_type": "markdown",
   "id": "caa4be80",
   "metadata": {},
   "source": [
    "```\n",
    "using System;\n",
    "\n",
    "\n",
    "namespace Rahib.AhmedBDAT1004PS1.Models\n",
    "{\n",
    "    internal class Question5\n",
    "    {\n",
    "        public void inside(double x, double y, double x1, double y1, double x2, double y2, string answer) {\n",
    "\n",
    "            bool ans = (x > x1 && x < x2) ? ((y > y1 && y < y2) ? true : false) : false;\n",
    "            Console.WriteLine();\n",
    "            Console.WriteLine($\"{answer}. It is {ans} for point with cordinates x: {x} and y: {y} inside rectangle x1: {x1}, y1: {y1}, x2:{x2}, y2: {y2}\\n\");\n",
    "        }\n",
    "    }\n",
    "}\n",
    "```"
   ]
  },
  {
   "cell_type": "markdown",
   "id": "fb468be4",
   "metadata": {},
   "source": [
    "### Calling :"
   ]
  },
  {
   "cell_type": "markdown",
   "id": "5e40ee19",
   "metadata": {},
   "source": [
    "```\n",
    "Question5 _question5 = new Question5();\n",
    "_question5.inside(1, 1, 0, 0, 2, 3, \"A\");\n",
    "_question5.inside(-1, -1, 0, 0, 2, 3, \"A\");\n",
    "_question5.inside(1, 1, 0.3, 0.5, 1.1, 0.7, \"B\");\n",
    "_question5.inside(1, 1, 0.5, 0.2, 1.1, 2, \"B\");\n",
    "\n",
    "```"
   ]
  },
  {
   "cell_type": "markdown",
   "id": "bf1854c1",
   "metadata": {},
   "source": [
    "# Output :"
   ]
  },
  {
   "cell_type": "markdown",
   "id": "a3e18bbf",
   "metadata": {},
   "source": [
    "<img src=\"https://github.com/rahibahmed/Rahib.Ahmed.BDAT1004PS1/blob/main/Answer5.PNG?raw=true\" width=\"800\" height=\"400\">"
   ]
  },
  {
   "cell_type": "markdown",
   "id": "51f7c482",
   "metadata": {},
   "source": [
    "# Pyhton"
   ]
  },
  {
   "cell_type": "markdown",
   "id": "a86e1875",
   "metadata": {},
   "source": [
    "# Question 6"
   ]
  },
  {
   "cell_type": "code",
   "execution_count": 22,
   "id": "9804e88f",
   "metadata": {},
   "outputs": [
    {
     "name": "stdout",
     "output_type": "stream",
     "text": [
      "appyhay\n",
      "enterway\n"
     ]
    }
   ],
   "source": [
    "def pig(name):\n",
    "    char = name.lower()\n",
    "    if char[0] == 'a' or char[0] == 'e' or char[0] == 'i' or char[0] == 'o' or char[0] == 'u' :\n",
    "        char += 'way'\n",
    "        print(char) \n",
    "    else :\n",
    "        char = char[1:] + char[0] + 'ay'\n",
    "#         char = char.replace(char[0], \"\") + char[0]+'ay'\n",
    "        print(char) \n",
    "        \n",
    "pig('Happy')\n",
    "pig('Enter')\n"
   ]
  },
  {
   "cell_type": "markdown",
   "id": "ec87e813",
   "metadata": {},
   "source": [
    "# Question 7"
   ]
  },
  {
   "cell_type": "code",
   "execution_count": 86,
   "id": "a115eeca",
   "metadata": {
    "scrolled": false
   },
   "outputs": [
    {
     "name": "stdout",
     "output_type": "stream",
     "text": [
      "There are 13 patients of blood type AB\n",
      "There are 1 patients of blood type B\n",
      "There are 15 patients of blood type O\n",
      "There are 0 patients of blood type OO\n",
      "There are 15 patients of blood type A\n"
     ]
    }
   ],
   "source": [
    "def bldcount():\n",
    "    infile = open(r'C:\\Users\\Administrator\\Desktop\\bloodtype1.txt')\n",
    "    line = infile.readline()\n",
    "    word = line.split()\n",
    "#     making an empty dictionary\n",
    "    frequency = {\"AB\": 0,\"B\": 0, \"O\": 0, \"OO\": 0, \"A\": 0 }\n",
    "#     iterating for each bloodtype if exist increase the key value in dictionary, if not then just increase by 1\n",
    "    for i in word:\n",
    "        if i in frequency:\n",
    "            frequency[i] += 1\n",
    "        else :\n",
    "            frequency[i] = 1\n",
    "    for key, value in frequency.items():\n",
    "         print(\"There are\", value, \"patients of blood type\", key)   \n",
    "#     print(frequency)\n",
    "#     print(word)\n",
    "bldcount()"
   ]
  },
  {
   "cell_type": "markdown",
   "id": "a96eeaa5",
   "metadata": {},
   "source": [
    "# Reference\n",
    "For error in using open function:  https://stackoverflow.com/questions/37400974/unicode-error-unicodeescape-codec-cant-decode-bytes-in-position-2-3-trunca"
   ]
  },
  {
   "cell_type": "markdown",
   "id": "38f1a5da",
   "metadata": {},
   "source": [
    "# Question 8"
   ]
  },
  {
   "cell_type": "code",
   "execution_count": 75,
   "id": "c7025a9e",
   "metadata": {},
   "outputs": [
    {
     "name": "stdout",
     "output_type": "stream",
     "text": [
      "1.241401\n",
      "122.96544\n",
      "Wrong input\n"
     ]
    }
   ],
   "source": [
    "def curnconv(countryAbbr, amount):\n",
    "    states = {}\n",
    "    infile = open(r'C:\\Users\\Administrator\\Desktop\\currencies.txt')\n",
    "    \n",
    "    for i in range(17):\n",
    "        lin = infile.readline().split()\n",
    "        states[lin[0]] = lin[1]\n",
    "        \n",
    "    if countryAbbr in states.keys():\n",
    "        conversion = float(states[countryAbbr]) * amount\n",
    "        print(conversion)\n",
    "    else :\n",
    "        print(\"Wrong input\")\n",
    "        \n",
    "curnconv('JPY', 100)\n",
    "curnconv('EUR', 100)\n",
    "curnconv('PPP', 100)"
   ]
  },
  {
   "cell_type": "markdown",
   "id": "cf494de7",
   "metadata": {},
   "source": [
    "# Question 9"
   ]
  },
  {
   "cell_type": "code",
   "execution_count": 7,
   "id": "3da3fcfc",
   "metadata": {},
   "outputs": [
    {
     "ename": "ValueError",
     "evalue": "math domain error",
     "output_type": "error",
     "traceback": [
      "\u001b[1;31m---------------------------------------------------------------------------\u001b[0m",
      "\u001b[1;31mValueError\u001b[0m                                Traceback (most recent call last)",
      "\u001b[1;32mC:\\Users\\ADMINI~1\\AppData\\Local\\Temp/ipykernel_2460/2457520835.py\u001b[0m in \u001b[0;36m<module>\u001b[1;34m\u001b[0m\n\u001b[0;32m      8\u001b[0m       \u001b[0mprint\u001b[0m\u001b[1;33m(\u001b[0m\u001b[0merrorNumber\u001b[0m\u001b[1;33m)\u001b[0m\u001b[1;33m\u001b[0m\u001b[1;33m\u001b[0m\u001b[0m\n\u001b[0;32m      9\u001b[0m \u001b[1;31m#     infile = open(r'C:\\Users\\Administrator\\Desktop\\currenciess.txt')\u001b[0m\u001b[1;33m\u001b[0m\u001b[1;33m\u001b[0m\u001b[0m\n\u001b[1;32m---> 10\u001b[1;33m \u001b[0mcheckErrorType\u001b[0m\u001b[1;33m(\u001b[0m\u001b[0mmath\u001b[0m\u001b[1;33m.\u001b[0m\u001b[0msqrt\u001b[0m\u001b[1;33m(\u001b[0m\u001b[1;33m-\u001b[0m\u001b[1;36m1\u001b[0m\u001b[1;33m)\u001b[0m\u001b[1;33m)\u001b[0m\u001b[1;33m\u001b[0m\u001b[1;33m\u001b[0m\u001b[0m\n\u001b[0m",
      "\u001b[1;31mValueError\u001b[0m: math domain error"
     ]
    }
   ],
   "source": [
    "import math\n",
    "def checkErrorType(errorNumber) :\n",
    "#     states = [10]\n",
    "#     error1 = 6 + 'a'\n",
    "#     print(error1)\n",
    "#     print(states[12])\n",
    "#     print(x)\n",
    "#       print(errorNumber)\n",
    "#     infile = open(r'C:\\Users\\Administrator\\Desktop\\currenciess.txt')\n",
    "checkErrorType(math.sqrt(-1))"
   ]
  },
  {
   "cell_type": "markdown",
   "id": "5184e48a",
   "metadata": {},
   "source": [
    "# Output"
   ]
  },
  {
   "cell_type": "markdown",
   "id": "039f674c",
   "metadata": {},
   "source": [
    "| Statement                                                    | ErrorType         | ErrorStatement                                     |\n",
    "|--------------------------------------------------------------|-------------------|----------------------------------------------------|\n",
    "| 6 + 'a'                                                      | TypeError         | unsupported operand type(s) for +: 'int' and 'str' |\n",
    "| 12th term of list with index 10                              | IndexError        | list index out of range                            |\n",
    "| value out of range for function like mat.sqrt(-1.0)          | ValueError        | math domain error                                  |\n",
    "| Using an undeclared variable x                               | NameError         | name 'x' not defined                               |\n",
    "| Trying to open a file that does not exist or wrong directory | FileNotFoundError | No such file or directory : 'path_name'            |"
   ]
  },
  {
   "cell_type": "markdown",
   "id": "b4e827f6",
   "metadata": {},
   "source": [
    "# Question 10"
   ]
  },
  {
   "cell_type": "code",
   "execution_count": 38,
   "id": "b72559c0",
   "metadata": {
    "scrolled": true
   },
   "outputs": [
    {
     "name": "stdout",
     "output_type": "stream",
     "text": [
      "[1, 1, 1, 3, 5, 1, 1, 2, 1, 0, 1, 0, 1, 2, 4, 0, 1, 2, 0, 2, 1, 0, 1, 1, 0, 0]\n",
      "[1, 0, 0, 0, 1, 0, 0, 0, 0, 0, 0, 1, 0, 0, 0, 2, 0, 0, 0, 0, 0, 0, 0, 0, 0, 0]\n"
     ]
    }
   ],
   "source": [
    "def frequencies(statement):\n",
    "    freqS = {}\n",
    "    ans = []\n",
    "    \n",
    "    newStatement = statement.replace(\" \", \"\")\n",
    "    newStatement = newStatement.replace(\".\", \"\")\n",
    "    \n",
    "    checkString = \"abcdefghijklmnopqrstuvwxyz\"\n",
    "    \n",
    "    for item in newStatement:\n",
    "        if item in freqS:\n",
    "            freqS[item] += 1\n",
    "        else :\n",
    "            freqS[item] = 1\n",
    "    \n",
    "    for i in range(len(checkString)):\n",
    "        if checkString[i] in freqS.keys():\n",
    "            ans.append(freqS[checkString[i]])\n",
    "        else :\n",
    "            ans.append(0)\n",
    "    \n",
    "    print(ans)\n",
    "\n",
    "frequencies('The quick red fox got bored and went home.')\n",
    "frequencies('apple')"
   ]
  }
 ],
 "metadata": {
  "kernelspec": {
   "display_name": "Python 3 (ipykernel)",
   "language": "python",
   "name": "python3"
  },
  "language_info": {
   "codemirror_mode": {
    "name": "ipython",
    "version": 3
   },
   "file_extension": ".py",
   "mimetype": "text/x-python",
   "name": "python",
   "nbconvert_exporter": "python",
   "pygments_lexer": "ipython3",
   "version": "3.9.7"
  }
 },
 "nbformat": 4,
 "nbformat_minor": 5
}
